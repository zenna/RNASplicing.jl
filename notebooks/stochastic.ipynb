{
 "cells": [
  {
   "cell_type": "markdown",
   "source": [
    "# A Stochastic Splicing Simulator"
   ],
   "metadata": {}
  },
  {
   "cell_type": "markdown",
   "source": [
    "## Overview\n",
    "Slicing is a process by which subsequences of preRNA (called introns, by definition) are removed.\n",
    "The remaining subsequences (called exons) are rejoined together.\n",
    "The resulting RNA sequence with introns removed is called mature RNA (mRNA)"
   ],
   "metadata": {}
  },
  {
   "cell_type": "markdown",
   "source": [
    "The splicing process is stochastic.  Given a preRNA sequence, there is a\n",
    "distribution over corresponding mRNA sequences.\n",
    "Sources of stochasticity:\n",
    "- Structure: RNA modifications /bulged nucleotides make pairing of rNA and snRNPs variable\n",
    "- Mutation: Single nucleotide variation (Q: At what point do mutations happen?)\n",
    "- Composition: Variability in RNA-Binding Protein concentrations of cell"
   ],
   "metadata": {}
  },
  {
   "cell_type": "markdown",
   "source": [
    "## Model"
   ],
   "metadata": {}
  },
  {
   "cell_type": "markdown",
   "source": [
    "Trans-elements are small nucleus RNA, proteins and their combination called small-\n",
    "nuclear ribonuclear proteins (snRNP).  Trans elements perform splicing by binding to the RNA\n",
    "in a sytematic fashion."
   ],
   "metadata": {}
  },
  {
   "outputs": [
    {
     "output_type": "execute_result",
     "data": {
      "text/plain": "Main.##410.TransElement"
     },
     "metadata": {},
     "execution_count": 1
    }
   ],
   "cell_type": "code",
   "source": [
    "using BioSequences, Random\n",
    "\n",
    "\"A Trans-Element / Factor: Proten or snRNP that can bind to primanry RNA transcript\"\n",
    "abstract type TransElement end"
   ],
   "metadata": {},
   "execution_count": 1
  },
  {
   "cell_type": "markdown",
   "source": [
    "There are many properties of a trans element that may affect its role in splicing.\n",
    "The simplest representation associated a transelement only with a name:"
   ],
   "metadata": {}
  },
  {
   "outputs": [
    {
     "output_type": "execute_result",
     "data": {
      "text/plain": "Main.##410.OpaqueTransElement"
     },
     "metadata": {},
     "execution_count": 2
    }
   ],
   "cell_type": "code",
   "source": [
    "\"Symbolic TransElement -- represents only its name\"\n",
    "struct OpaqueTransElement <: TransElement\n",
    "  name::Symbol\n",
    "end"
   ],
   "metadata": {},
   "execution_count": 2
  },
  {
   "cell_type": "markdown",
   "source": [
    "A __spliceosome__ is a complex of transelements.\n",
    "We model a spliceosome as a partial function from trans-elements to real values representing their\n",
    "relative concentrations:"
   ],
   "metadata": {}
  },
  {
   "outputs": [
    {
     "output_type": "execute_result",
     "data": {
      "text/plain": "Main.##410.insos"
     },
     "metadata": {},
     "execution_count": 3
    }
   ],
   "cell_type": "code",
   "source": [
    "\"Collection of transelements at different concentrations\"\n",
    "struct Spliceosome{T <: TransElement, R <: Real}\n",
    "  elems::Dict{T, R}   # Maps from transelement to its concentration in spliceosome\n",
    "end\n",
    "\n",
    "\"Is transelement `te` in the splicesosome?\"\n",
    "insos(te, sos::Spliceosome) = te in keys(sos.elems)"
   ],
   "metadata": {},
   "execution_count": 3
  },
  {
   "cell_type": "markdown",
   "source": [
    "Spliceosome(elems::Dict{T, R}) where {T, R} = Spliceosome{T, R}(elems)"
   ],
   "metadata": {}
  },
  {
   "outputs": [
    {
     "output_type": "execute_result",
     "data": {
      "text/plain": "Main.##410.ntranselems"
     },
     "metadata": {},
     "execution_count": 4
    }
   ],
   "cell_type": "code",
   "source": [
    "\"concentration of transelement `te` in spliceosome `so`\"\n",
    "concentration(sos, te) = sos.elems[te]\n",
    "\n",
    "\"Number of trans-elements in splicesosome\"\n",
    "ntranselems(sos::Spliceosome) = length(sos.elems)"
   ],
   "metadata": {},
   "execution_count": 4
  },
  {
   "cell_type": "markdown",
   "source": [
    "The __primary transcript__ is a sequence of RNA to be spliced by the spliceosome"
   ],
   "metadata": {}
  },
  {
   "outputs": [
    {
     "output_type": "execute_result",
     "data": {
      "text/plain": "BioSequences.BioSequence{BioSequences.RNAAlphabet{4}}"
     },
     "metadata": {},
     "execution_count": 5
    }
   ],
   "cell_type": "code",
   "source": [
    "const RNASequence = BioSequence{RNAAlphabet{4}}"
   ],
   "metadata": {},
   "execution_count": 5
  },
  {
   "cell_type": "markdown",
   "source": [
    "Trans-elements can bind to sequences in primary transcript.\n",
    "The following data structure represents a transcript bound with any number of trans-elements:"
   ],
   "metadata": {}
  },
  {
   "cell_type": "markdown",
   "source": [
    "Position -- Natural number 1:length(seq)"
   ],
   "metadata": {}
  },
  {
   "outputs": [
    {
     "output_type": "execute_result",
     "data": {
      "text/plain": "Main.##410.BoundSeq"
     },
     "metadata": {},
     "execution_count": 6
    }
   ],
   "cell_type": "code",
   "source": [
    "const Pos = Int\n",
    "\n",
    "\"Primary transcript with tran-elements bound to it\"\n",
    "struct BoundSeq{T <: TransElement}\n",
    "  seq::RNASequence             # Primary transcriipt\n",
    "  binds::Vector{Tuple{Pos, T}} # position -> transelement bound at that position\n",
    "end\n",
    "\n",
    "BoundSeq(seq::RNASequence, ::Type{T} = TransElement) where T =\n",
    "  BoundSeq(seq, Tuple{Pos, T}[])"
   ],
   "metadata": {},
   "execution_count": 6
  },
  {
   "cell_type": "markdown",
   "source": [
    "Each bound sequence `bseq` has an associated energy `ℓ(bseq)`\n",
    "We assume that ℓ has a particular structure: proteins bound to particular sites on\n",
    "the primary transcript modulate the energy function locally"
   ],
   "metadata": {}
  },
  {
   "cell_type": "markdown",
   "source": [
    "A pattern (or motif) is a property of an RNA sequence.\n",
    "We assume that the extent to which a pattern has occured is graded.\n",
    "Formally a pattern is a function from a subsequence to the unit interval, where\n",
    "p(seq) = 1 indicates a perfect match and p(seq) = 0 indicates no match at all."
   ],
   "metadata": {}
  },
  {
   "cell_type": "markdown",
   "source": [
    "An example of a hard pattern is a G-run, a sequence of Gs:"
   ],
   "metadata": {}
  },
  {
   "outputs": [
    {
     "output_type": "execute_result",
     "data": {
      "text/plain": "Main.##410.grun"
     },
     "metadata": {},
     "execution_count": 7
    }
   ],
   "cell_type": "code",
   "source": [
    "\"Does `seq` have a sequence of at least three Gs?\"\n",
    "grun(seq) = occursin(biore\"GGG+\"rna, seq) ? 1.0 : 0.0"
   ],
   "metadata": {},
   "execution_count": 7
  },
  {
   "cell_type": "markdown",
   "source": [
    "Splicing literature makes a distinction between the core splicing machinery\n",
    "and __splicing regulary elements__.\n",
    "The core splicing machinery is carried out by the __major splicesosome__, which\n",
    "consists of exactly 5 rnSNAs and around 150 proteins, which combine to make\n",
    "5 rnSNPs: U1, U2, U4, U5, U6.\n",
    "The core splicing mechanism is an ordered, stepwise assembly of discrete snRNP particles\n",
    "on the pre-mRNA primary transcript.  First U1 binds to the 5' splice site, U2 binds\n",
    "to a branch site, and so on until a split occurs."
   ],
   "metadata": {}
  },
  {
   "cell_type": "markdown",
   "source": [
    "Splicing regulartory elements (SREs) are patterns on RNA that inhibit or promote splicing machinery.\n",
    "They are believed to be the main mechanism for alternative splcing."
   ],
   "metadata": {}
  },
  {
   "cell_type": "markdown",
   "source": [
    "We will model both the core machinery and SREs within the same framework.\n",
    "We model Interactions as tuples of the form $(p, e)$, where $p$ is a pattern (described above)\n",
    "and $e: \\to \\mathbb{R}$ is an effect -- a function that maps\n",
    "The existance of a pattern can increase or decrease the binding energy"
   ],
   "metadata": {}
  },
  {
   "outputs": [
    {
     "output_type": "execute_result",
     "data": {
      "text/plain": "Main.##410.bind"
     },
     "metadata": {},
     "execution_count": 8
    }
   ],
   "cell_type": "code",
   "source": [
    "struct Interaction{P, E}\n",
    "  pattern::P\n",
    "  effects::E\n",
    "end\n",
    "\n",
    "\"Returns a protein extractor that returns the singleton `te` iff its in the splicesosome\"\n",
    "only(te::T) where T = sos -> insos(te, sos) ? [te] : T[]\n",
    "\n",
    "\"Initial probabilities for (TransElement, Position)\"\n",
    "initT(sos::Spliceosome{T, R}, seq) where {T, R} = Dict{Tuple{T, Pos}, R}()\n",
    "\n",
    "\"Absolute position where pattern matched\"\n",
    "matchpos(m::BioSequences.RE.RegexMatch) = m.captured[1]\n",
    "\n",
    "\"Simulate one binding step\"\n",
    "function step(rng, bseq, sos, intrs)\n",
    "  T = initT(sos, bseq.seq)\n",
    "\n",
    "  for intr in intrs\n",
    "    for x in eachmatch(intr.pattern, bseq.seq)\n",
    "      for (p, relpos, mul) in intr.effects\n",
    "        abspos = matchpos(x) + relpos\n",
    "        for protein in p(sos)\n",
    "          if (protein, abspos) ∉ keys(T)\n",
    "            T[protein, abspos] = 1.0\n",
    "          end\n",
    "          T[protein, abspos] *= mul\n",
    "        end\n",
    "      end\n",
    "    end\n",
    "  end\n",
    "  bseq = bind(rng, T, bseq)\n",
    "  maybesplice(bseq)\n",
    "end\n",
    "\n",
    "\"Simulate a binding process\"\n",
    "bind(rng, T, bseq) = .."
   ],
   "metadata": {},
   "execution_count": 8
  },
  {
   "cell_type": "markdown",
   "source": [
    "The splicosome can be simulated"
   ],
   "metadata": {}
  },
  {
   "outputs": [
    {
     "output_type": "execute_result",
     "data": {
      "text/plain": "Main.##410.maybesplice"
     },
     "metadata": {},
     "execution_count": 9
    }
   ],
   "cell_type": "code",
   "source": [
    "\"Simulate the splicing\"\n",
    "function splice(rng, bseq::BoundSeq, sos, intrs; n = 1000)\n",
    "  for i = 1:n\n",
    "    bseq = step(rng, bseq, sos, intrs)\n",
    "    bseq = maybesplice(bseq)\n",
    "  end\n",
    "  bseq\n",
    "end\n",
    "\n",
    "splice(bseq, sos, intrs) = splice(Random.GLOBAL_RNG, bseq, sos, intrs)\n",
    "splice(rng, rnaseq::RNASequence, sos, intrs) = splice(rng, BoundSeq(rnaseq), sos, intrs)\n",
    "\n",
    "\"Simulate core splicing machinery -- checks for presence of u1 and u2\"\n",
    "maybesplice(bseq) = bseq"
   ],
   "metadata": {},
   "execution_count": 9
  },
  {
   "cell_type": "markdown",
   "source": [
    "Model\n",
    "A splicing round occurs when U1 and U2AF proteins reach a global minimum"
   ],
   "metadata": {}
  },
  {
   "cell_type": "markdown",
   "source": [
    "# Measurement (Sequencing)"
   ],
   "metadata": {}
  },
  {
   "cell_type": "markdown",
   "source": [
    "Unfortunately, we do not have exact data, and hence we must model the stochasticity in the sequencing process.\n",
    "The following model of sequencing assumes that from a given `rna`, `n` (possibly differing, due to alternative splicing) mRNAs\n",
    "are produced, and the sequencing measures a single sunsequence (of random length) from each"
   ],
   "metadata": {}
  },
  {
   "outputs": [
    {
     "output_type": "execute_result",
     "data": {
      "text/plain": "Main.##410.sequence"
     },
     "metadata": {},
     "execution_count": 10
    }
   ],
   "cell_type": "code",
   "source": [
    "\"Sequence rng process\"\n",
    "function sequence(rng, seq, n)\n",
    "  sequences = RNASequence[]\n",
    "\n",
    "  splice_start(rng) = uniform(rng, 1:length(seq))\n",
    "\n",
    "  splce_length(rng) = uniform(rng, 1:100)\n",
    "\n",
    "  for i = 1:n\n",
    "    mRNA = simsplice(rng, seq, n)\n",
    "    lb = splice_start(rng)\n",
    "    ub = lb + splice_length(rng)\n",
    "    push!(sequences, mRNA[lb:ub]) # FIXME: Might go out of bounds\n",
    "  end\n",
    "  sequences\n",
    "end"
   ],
   "metadata": {},
   "execution_count": 10
  },
  {
   "cell_type": "markdown",
   "source": [
    "---\n",
    "\n",
    "*This notebook was generated using [Literate.jl](https://github.com/fredrikekre/Literate.jl).*"
   ],
   "metadata": {}
  }
 ],
 "nbformat_minor": 3,
 "metadata": {
  "language_info": {
   "file_extension": ".jl",
   "mimetype": "application/julia",
   "name": "julia",
   "version": "1.3.0"
  },
  "kernelspec": {
   "name": "julia-1.3",
   "display_name": "Julia 1.3.0",
   "language": "julia"
  }
 },
 "nbformat": 4
}
