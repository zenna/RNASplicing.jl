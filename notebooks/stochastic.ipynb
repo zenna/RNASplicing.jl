{
 "cells": [
  {
   "cell_type": "markdown",
   "source": [
    "# A Stochastic Splicing Simulator"
   ],
   "metadata": {}
  },
  {
   "outputs": [],
   "cell_type": "code",
   "source": [
    "using BioSequences"
   ],
   "metadata": {},
   "execution_count": 1
  },
  {
   "cell_type": "markdown",
   "source": [
    "## Overview\n",
    "Slicing is a process by which subsequences of preRNA (called introns, by definition) are removed.\n",
    "The remaining subsequences (called exons) are rejoined together.\n",
    "The resulting RNA sequence with introns removed is called mature RNA (mRNA)"
   ],
   "metadata": {}
  },
  {
   "cell_type": "markdown",
   "source": [
    "The splicing process is stochastic.  Given a preRNA sequence, there is a\n",
    "distribution over corresponding mRNA sequences.\n",
    "Sources of stochasticity:\n",
    "- Structure: RNA modifications /bulged nucleotides make pairing of rNA and snRNPs variable\n",
    "- Mutation: Single nucleotide variation (Q: At what point do mutations happen?)\n",
    "- Composition: Variability in RNA-Binding Protein concentrations of cell"
   ],
   "metadata": {}
  },
  {
   "cell_type": "markdown",
   "source": [
    "## Model"
   ],
   "metadata": {}
  },
  {
   "cell_type": "markdown",
   "source": [
    "Trans-elements are small nucleus RNA, proteins and their combination called small-\n",
    "nuclear ribonuclear proteins (snRNP).  Trans elements perform splicing by binding to the RNA\n",
    "in a sytematic fashion."
   ],
   "metadata": {}
  },
  {
   "outputs": [
    {
     "output_type": "execute_result",
     "data": {
      "text/plain": "Main.##430.OpaqueTransElement"
     },
     "metadata": {},
     "execution_count": 2
    }
   ],
   "cell_type": "code",
   "source": [
    "abstract type TransElement end\n",
    "\n",
    "\"Symbolic TransElement -- represents only its name\"\n",
    "struct OpaqueTransElement <: TransElement\n",
    "  name::Symbol\n",
    "end"
   ],
   "metadata": {},
   "execution_count": 2
  },
  {
   "cell_type": "markdown",
   "source": [
    "A __spliceosome__ is a complex of transelements.\n",
    "We model a spliceosome as a partial function from trans elements to real values representing their\n",
    "relative concentrations:"
   ],
   "metadata": {}
  },
  {
   "outputs": [
    {
     "output_type": "execute_result",
     "data": {
      "text/plain": "Main.##430.concentration"
     },
     "metadata": {},
     "execution_count": 3
    }
   ],
   "cell_type": "code",
   "source": [
    "\"Collection of transelements at different concentrations\"\n",
    "struct Spliceosome{T <: TransElement, R <: Real}\n",
    "  elems::Dict{T, R}   # Maps from transelement to its concentration in spliceosome\n",
    "end\n",
    "\n",
    "\"concentration of transelement `te` in spliceosome `so`\"\n",
    "concentration(so, te) = so.elems[te]"
   ],
   "metadata": {},
   "execution_count": 3
  },
  {
   "cell_type": "markdown",
   "source": [
    "The __primary transcript__ is a sequence of RNA to be spliced by the spliceosome"
   ],
   "metadata": {}
  },
  {
   "outputs": [
    {
     "output_type": "execute_result",
     "data": {
      "text/plain": "BioSequence{RNAAlphabet{4}}"
     },
     "metadata": {},
     "execution_count": 4
    }
   ],
   "cell_type": "code",
   "source": [
    "const RNASequence = BioSequence{RNAAlphabet{4}}"
   ],
   "metadata": {},
   "execution_count": 4
  },
  {
   "cell_type": "markdown",
   "source": [
    "Trans-elements can bind to sequences in primary transcript"
   ],
   "metadata": {}
  },
  {
   "outputs": [
    {
     "output_type": "execute_result",
     "data": {
      "text/plain": "Main.##430.BoundSeq"
     },
     "metadata": {},
     "execution_count": 5
    }
   ],
   "cell_type": "code",
   "source": [
    "\"Primary transcript with tran-elements bound to it\"\n",
    "struct BoundSeq{T <: TransElement}\n",
    "  seq::RNASequence                        # Primary transcriipt\n",
    "  binds::Vector{Tuple{Int, T}} # position -> transelement bound at that position\n",
    "end"
   ],
   "metadata": {},
   "execution_count": 5
  },
  {
   "cell_type": "markdown",
   "source": [
    "Each (potential) bound sequence has an associated energy ℓ\n",
    "We assume that ℓ has a particular structure:\n",
    "A pattern (or motif) is a property of a RNA sequence\n",
    "We assume that the extent to which a pattern has occured is graded\n",
    "Formally a pattern is a function from a subsequence to the unit interval, where\n",
    "p(seq) = 1 indicates a perfect match and p(seq) = 0 indicates no match at all"
   ],
   "metadata": {}
  },
  {
   "cell_type": "markdown",
   "source": [
    "An example of a hard pattern is a G-run, a sequence of Gs"
   ],
   "metadata": {}
  },
  {
   "outputs": [
    {
     "output_type": "execute_result",
     "data": {
      "text/plain": "Main.##430.grun"
     },
     "metadata": {},
     "execution_count": 6
    }
   ],
   "cell_type": "code",
   "source": [
    "\"Does `seq` have a sequence of at least three Gs?\"\n",
    "grun(seq) = occursin(biore\"GGG+\"rna, seq) ? 1.0 : 0.0"
   ],
   "metadata": {},
   "execution_count": 6
  },
  {
   "cell_type": "markdown",
   "source": [
    "Splicing literature makes a distinction between the core splicing machinery\n",
    "and splicing regulary elements.\n",
    "The core splicing machinery is carried out by the major splicesosome, which\n",
    "consists of exactly 5 rnSNAs and around 150 proteins, which combine to make\n",
    "5 rnSNPs: U1, U2, U4, U5, U6.\n",
    "In the core splicing mechanism is an ordered, stepwise assembly of discrete snRNP particles\n",
    "on the pre-mRNA primary transcript.  First U1 binds to the 5' splice site, U2 binds\n",
    "to a branch site, and so on until a split occurs."
   ],
   "metadata": {}
  },
  {
   "cell_type": "markdown",
   "source": [
    "Splicing regulartory elements (SREs) are patterns on RNA\n",
    "In particular, they inhibit or promote splicing machinery"
   ],
   "metadata": {}
  },
  {
   "cell_type": "markdown",
   "source": [
    "We will model both of these within the same framework\n",
    "We model SQQs as tuples of the form $(p, e)$, where $p$ is a pattern (described above)\n",
    "and $e: \\to \\mathbb{R}$ is an effect -- a function that maps\n",
    "The existance of a pattern can increase or decrease the binding energy"
   ],
   "metadata": {}
  },
  {
   "outputs": [],
   "cell_type": "code",
   "source": [
    "struct SQQ{P, E}\n",
    "  pattern::P\n",
    "  effect::E\n",
    "end"
   ],
   "metadata": {},
   "execution_count": 7
  },
  {
   "cell_type": "markdown",
   "source": [
    "The core splicing machinery can be expressed in this framework"
   ],
   "metadata": {}
  },
  {
   "outputs": [
    {
     "output_type": "execute_result",
     "data": {
      "text/plain": "Main.##430.ℓ"
     },
     "metadata": {},
     "execution_count": 8
    }
   ],
   "cell_type": "code",
   "source": [
    "\"5’ splice site - 9-nucleotide motif that generally conforms to the sequence\"\n",
    "donorsite(seq) = occursin(biore\"(C|A)AG|GU(A|G)AGU\"rna, seq) ? 1.0 : 0.0\n",
    "const e1 = SQQ(donorsite, Dict(OpaqueTransElement(:u1) => 0.1))\n",
    "const coremachinery = [e1]\n",
    "\n",
    "\"The energy of a configuration `bseq` assuming splicing regulary elements `sres`\"\n",
    "function ℓ(bseq::BoundSeq, sqqs)\n",
    "  while !converged() # FIXME\n",
    "    for sqq in sqqs\n",
    "      sqq = 3\n",
    "    end\n",
    "  end\n",
    "end"
   ],
   "metadata": {},
   "execution_count": 8
  },
  {
   "cell_type": "markdown",
   "source": [
    "The splicosome can be simulated"
   ],
   "metadata": {}
  },
  {
   "outputs": [
    {
     "output_type": "execute_result",
     "data": {
      "text/plain": "Main.##430.stableconfig"
     },
     "metadata": {},
     "execution_count": 9
    }
   ],
   "cell_type": "code",
   "source": [
    "\"Simulate the spliceosome\"\n",
    "function simspliceosome(rng, bseq, so)\n",
    "  while !converged()\n",
    "    bseq = stableconfig(rng, ℓ, bseq, so)\n",
    "    bseq = maybesplice(bseq)\n",
    "  end\n",
    "  bseq\n",
    "  #FIXME: Might want introns too\n",
    "end\n",
    "\n",
    "\"Simulate core splicing machinery\"\n",
    "function maybesplice(bseq)\n",
    "  bseq   # Check for presence of u1 and u2\n",
    "end\n",
    "\n",
    "\"Stochastic optimization to find stable (energetically minimal wrt ℓ) configuration of binding\"\n",
    "function stableconfig(rng, ℓ, bseq, so)\n",
    "end"
   ],
   "metadata": {},
   "execution_count": 9
  },
  {
   "cell_type": "markdown",
   "source": [
    "Model\n",
    "A splicing round occurs when U1 and U2AF proteins reach a global minimum"
   ],
   "metadata": {}
  },
  {
   "cell_type": "markdown",
   "source": [
    "---\n",
    "\n",
    "*This notebook was generated using [Literate.jl](https://github.com/fredrikekre/Literate.jl).*"
   ],
   "metadata": {}
  }
 ],
 "nbformat_minor": 3,
 "metadata": {
  "language_info": {
   "file_extension": ".jl",
   "mimetype": "application/julia",
   "name": "julia",
   "version": "1.3.1"
  },
  "kernelspec": {
   "name": "julia-1.3",
   "display_name": "Julia 1.3.1",
   "language": "julia"
  }
 },
 "nbformat": 4
}
